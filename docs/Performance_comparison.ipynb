{
 "cells": [
  {
   "cell_type": "code",
   "execution_count": null,
   "metadata": {},
   "outputs": [],
   "source": [
    "!pip install auto_diff_pkg"
   ]
  },
  {
   "cell_type": "code",
   "execution_count": 1,
   "metadata": {},
   "outputs": [],
   "source": [
    "from auto_diff_pkg.ReverseAutoDiff import ReverseADNode, sqrt, sin, cos, exp, log, tan, arcsin, arccos, arctan, sinh, cosh, tanh, jacobian"
   ]
  },
  {
   "cell_type": "code",
   "execution_count": 2,
   "metadata": {},
   "outputs": [],
   "source": [
    "#Setting up our functions \n",
    "values = []\n",
    "values.append([1, 2, 4])\n",
    "values.append([1, 2, 4, 20, 6, 4.5, 12, 3, 0.8, 10])\n",
    "def f1(x0, x1, x2):\n",
    "    return (x0 + x1 + x2)\n",
    "def f2(x0, x1, x2):\n",
    "    return (1 * x0 + 2 * x1 + 3 * x2)\n",
    "def f3(x0, x1, x2):\n",
    "    return (1 * x0 * 2 * x1 * 3 * x2)\n",
    "def f4(x0, x1, x2):\n",
    "    return (x0 ** 2 + x1 ** 3 + x2 ** 4)\n",
    "def f5(x0, x1, x2):\n",
    "    return (sin(x0) + cos(x1) + tan(x2))\n",
    "def f6(x0, x1, x2):\n",
    "    return (x0 - x1 * x2)\n",
    "def f7(x0, x1, x2):\n",
    "    return (1 * x0 - 2 * x1 + x2 ** 2)\n",
    "def f8(x0, x1, x2):\n",
    "    return (2 * x0 * x1 + x2/3)\n",
    "def f9(x0, x1, x2):\n",
    "    return (x0 ** 2 + 3*x1 + sqrt(x2))\n",
    "def f10(x0, x1, x2):\n",
    "    return (x0 ** 2 + 3*x1 + sqrt(x2))\n",
    "def f11(x0, x1, x2, x3, x4, x5, x6, x7, x8, x9):\n",
    "    return (sin(x0) + cos(x1**2) + 3*x2 + x3 ** 2 + 5*x4 + x5*x6 + x7/x8 - x9**2)\n",
    "def f12(x0, x1, x2, x3, x4, x5, x6, x7, x8, x9):\n",
    "    return (2 * x0 * x1 + x2/3 + 1 * x3 + 2 * x4 + 3 * x5 + x6*x7 - x8 + exp(x9))\n",
    "def f13(x0, x1, x2, x3, x4, x5, x6, x7, x8, x9):\n",
    "    return (sin(x0) + cos(x1**2) + 3*x2 + 2 * x3 * x4 + x5/3 + x6 - x7 * x8 + 4*x9)\n",
    "functions_of_3_vars = [f1, f2, f3, f4, f5, f6, f7, f8, f9, f10]\n",
    "functions_of_10_vars = [f11, f12, f13]"
   ]
  },
  {
   "cell_type": "code",
   "execution_count": 3,
   "metadata": {},
   "outputs": [],
   "source": [
    "import os\n",
    "import psutil\n",
    "import time\n",
    "\n",
    "RD_start_times = []\n",
    "RD_end_times = []\n",
    "RD_start_mem = []\n",
    "RD_end_mem = []\n",
    "\n",
    "process = psutil.Process(os.getpid())"
   ]
  },
  {
   "cell_type": "code",
   "execution_count": 4,
   "metadata": {},
   "outputs": [],
   "source": [
    "RD_start_times.append(time.perf_counter())\n",
    "RD_start_mem.append(process.memory_info()[0])\n",
    "res1 = jacobian(values[0], functions_of_3_vars)\n",
    "RD_end_times.append(time.perf_counter())\n",
    "RD_end_mem.append(process.memory_info()[0])"
   ]
  },
  {
   "cell_type": "code",
   "execution_count": 5,
   "metadata": {},
   "outputs": [],
   "source": [
    "RD_start_times.append(time.perf_counter())\n",
    "RD_start_mem.append(process.memory_info()[0])\n",
    "res2 = jacobian(values[1], functions_of_10_vars)\n",
    "RD_end_times.append(time.perf_counter())\n",
    "RD_end_mem.append(process.memory_info()[0])"
   ]
  },
  {
   "cell_type": "code",
   "execution_count": 6,
   "metadata": {},
   "outputs": [],
   "source": [
    "RD_times = (RD_end_times[0]-RD_start_times[0], RD_end_times[1]-RD_start_times[1])\n",
    "RD_mem = (RD_end_mem[0]-RD_start_mem[0], RD_end_mem[1]-RD_start_mem[1])"
   ]
  },
  {
   "cell_type": "code",
   "execution_count": 7,
   "metadata": {},
   "outputs": [
    {
     "name": "stdout",
     "output_type": "stream",
     "text": [
      "(0.0006100230000001261, 0.0005436999999997028)\n",
      "(45056, 4096)\n"
     ]
    }
   ],
   "source": [
    "print(RD_times)\n",
    "print(RD_mem)"
   ]
  },
  {
   "cell_type": "code",
   "execution_count": 8,
   "metadata": {},
   "outputs": [],
   "source": [
    "from auto_diff_pkg.AutoDiff import AutoDiff, sqrt, sin, cos, exp, log, tan, arcsin, arccos, arctan, sinh, cosh, tanh, jacobian"
   ]
  },
  {
   "cell_type": "code",
   "execution_count": 9,
   "metadata": {},
   "outputs": [],
   "source": [
    "AD_start_times = []\n",
    "AD_end_times = []\n",
    "AD_start_mem = []\n",
    "AD_end_mem = []\n",
    "\n",
    "process = psutil.Process(os.getpid())"
   ]
  },
  {
   "cell_type": "code",
   "execution_count": 10,
   "metadata": {},
   "outputs": [],
   "source": [
    "AD_start_times.append(time.perf_counter())\n",
    "AD_start_mem.append(process.memory_info()[0])\n",
    "res1 = jacobian(values[0], functions_of_3_vars)\n",
    "AD_end_times.append(time.perf_counter())\n",
    "AD_end_mem.append(process.memory_info()[0])"
   ]
  },
  {
   "cell_type": "code",
   "execution_count": 11,
   "metadata": {},
   "outputs": [],
   "source": [
    "AD_start_times.append(time.perf_counter())\n",
    "AD_start_mem.append(process.memory_info()[0])\n",
    "res2 = jacobian(values[1], functions_of_10_vars)\n",
    "AD_end_times.append(time.perf_counter())\n",
    "AD_end_mem.append(process.memory_info()[0])"
   ]
  },
  {
   "cell_type": "code",
   "execution_count": 12,
   "metadata": {},
   "outputs": [],
   "source": [
    "AD_times = (AD_end_times[0]-AD_start_times[0], AD_end_times[1]-AD_start_times[1])\n",
    "AD_mem = (AD_end_mem[0]-AD_start_mem[0], AD_end_mem[1]-AD_start_mem[1])"
   ]
  },
  {
   "cell_type": "code",
   "execution_count": 13,
   "metadata": {},
   "outputs": [
    {
     "name": "stdout",
     "output_type": "stream",
     "text": [
      "(0.0006625150000001412, 0.000397312999998789) (0.0006100230000001261, 0.0005436999999997028)\n",
      "(0, 0) (45056, 4096)\n"
     ]
    }
   ],
   "source": [
    "\n",
    "print(AD_times, RD_times)\n",
    "print(AD_mem, RD_mem)"
   ]
  },
  {
   "cell_type": "code",
   "execution_count": 22,
   "metadata": {},
   "outputs": [
    {
     "data": {
      "text/plain": [
       "Text(0.5, 1.0, 'Run time comparison')"
      ]
     },
     "execution_count": 22,
     "metadata": {},
     "output_type": "execute_result"
    },
    {
     "data": {
      "image/png": "[encoded data removed]",
      "text/plain": [
       "<Figure size 432x288 with 1 Axes>"
      ]
     },
     "metadata": {
      "needs_background": "light"
     },
     "output_type": "display_data"
    }
   ],
   "source": [
    "import matplotlib.pyplot as plt\n",
    "\n",
    "x = [10, 3]\n",
    "y_ad_times = AD_times\n",
    "y_rd_times = RD_times\n",
    "\n",
    "plt.plot(x, y_ad_times, lw=4, ls='-', label=r'$Forward$')  # linewidth = 4, linestyle = solid, raw string label\n",
    "plt.plot(x, y_rd_times, lw=4, ls='--', label=r'$Reverse$')\n",
    "plt.legend() # show legend\n",
    "plt.xlabel('Numer of Inputs', fontsize=14) # label x axis\n",
    "plt.ylabel('Run Time', fontsize=14) # label y axis\n",
    "plt.title('Run time comparison', fontsize=20)"
   ]
  },
  {
   "cell_type": "code",
   "execution_count": null,
   "metadata": {},
   "outputs": [],
   "source": []
  }
 ],
 "metadata": {
  "kernelspec": {
   "display_name": "Python 3",
   "language": "python",
   "name": "python3"
  },
  "language_info": {
   "codemirror_mode": {
    "name": "ipython",
    "version": 3
   },
   "file_extension": ".py",
   "mimetype": "text/x-python",
   "name": "python",
   "nbconvert_exporter": "python",
   "pygments_lexer": "ipython3",
   "version": "3.8.3"
  }
 },
 "nbformat": 4,
 "nbformat_minor": 4
}
