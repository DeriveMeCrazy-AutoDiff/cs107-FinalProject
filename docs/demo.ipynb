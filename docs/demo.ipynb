{
 "cells": [
  {
   "cell_type": "markdown",
   "metadata": {},
   "source": [
    "### AutoDiff Demos"
   ]
  },
  {
   "cell_type": "markdown",
   "metadata": {},
   "source": [
    "Start by importing the AutoDiff package (make sure to have dependencies properly installed it first!)"
   ]
  },
  {
   "cell_type": "code",
   "execution_count": null,
   "metadata": {},
   "outputs": [],
   "source": [
    "import os\n",
    "import sys\n",
    "\n",
    "if os.getcwd()+'/../' not in sys.path:\n",
    "    sys.path.insert(0, os.getcwd()+'/../') #adds parent directory to python path\n",
    "\n",
    "\n",
    "#import auto_diff_pkg.AutoDiff as AutoDiff\n",
    "from  auto_diff_pkg.AutoDiff import AutoDiff, sqrt, sin, cos, exp, log, tan"
   ]
  },
  {
   "cell_type": "markdown",
   "metadata": {},
   "source": [
    "Now we can create an AutoDiff object and see what's included."
   ]
  },
  {
   "cell_type": "code",
   "execution_count": null,
   "metadata": {},
   "outputs": [],
   "source": [
    "ad = AutoDiff(5.0) # auto differentiation object with value of 5\n",
    "print(ad.__dir__()) "
   ]
  },
  {
   "cell_type": "markdown",
   "metadata": {},
   "source": [
    "The AutoDiff object has two primary class variables: its value (val) and its derivative (der). There are custom dunder method implementations to carry out both value and derivative calculations. For example, adding a scalar to an AutoDiff object:"
   ]
  },
  {
   "cell_type": "code",
   "execution_count": null,
   "metadata": {},
   "outputs": [],
   "source": [
    "ad1 = AutoDiff(5.0) \n",
    "ad2 = ad + 5.0\n",
    "print('value: {}'.format(ad2.val))\n",
    "print('derivative: {}'.format(ad2.der))"
   ]
  },
  {
   "cell_type": "markdown",
   "metadata": {},
   "source": [
    "Unsurprisingly, 5 + 5 is equal to 10, but the derivative of a scalar addition is 0, so the initial derivative of our AutoDiff object remains unchanged.\n",
    "\n",
    "Adding two AutoDiff objects does change the derivative of their sum, however."
   ]
  },
  {
   "cell_type": "code",
   "execution_count": null,
   "metadata": {},
   "outputs": [],
   "source": [
    "ad1 = AutoDiff(5.0)\n",
    "ad2 = AutoDiff(3.0)\n",
    "ad3 = ad1 + ad2\n",
    "\n",
    "print('value: {}'.format(ad3.val))\n",
    "print('derivative: {}'.format(ad3.der))"
   ]
  },
  {
   "cell_type": "markdown",
   "metadata": {},
   "source": [
    "More operations than addition can be applied to an AutoDiff object. Here are some of the following:"
   ]
  },
  {
   "cell_type": "code",
   "execution_count": null,
   "metadata": {},
   "outputs": [],
   "source": [
    "ad1 = AutoDiff(5.0)\n",
    "ad2 = AutoDiff(3.0)\n",
    "\n",
    "print('---multiplication---')\n",
    "ad3 = ad1 * ad2\n",
    "\n",
    "print('value: {}'.format(ad3.val))\n",
    "print('derivative: {}'.format(ad3.der))\n",
    "\n",
    "print('\\n---powers---')\n",
    "ad3 = ad1 ** ad2\n",
    "\n",
    "print('value: {}'.format(ad3.val))\n",
    "print('derivative: {}'.format(ad3.der))\n",
    "\n",
    "print('\\n---sine---')\n",
    "ad3 = sin(ad1)\n",
    "\n",
    "print('value: {}'.format(ad3.val))\n",
    "print('derivative: {}'.format(ad3.der))"
   ]
  },
  {
   "cell_type": "markdown",
   "metadata": {},
   "source": [
    "Please refer to the documentation for a full list of the operations supported by AutoDiff objects.\n",
    "\n",
    "Lastly, AutoDiff objects can be used as input to lambda functions, increasing their usability and flexibility:"
   ]
  },
  {
   "cell_type": "code",
   "execution_count": null,
   "metadata": {},
   "outputs": [],
   "source": [
    "f = lambda x: 2.0 * sin(x)**2 + 3.0\n",
    "\n",
    "ad = AutoDiff(5.0)\n",
    "ad2 = f(ad)\n",
    "\n",
    "print('value: {}'.format(ad2.val))\n",
    "print('derivative: {}'.format(ad2.der))"
   ]
  }
 ],
 "metadata": {
  "kernelspec": {
   "display_name": "Python 3",
   "language": "python",
   "name": "python3"
  },
  "language_info": {
   "codemirror_mode": {
    "name": "ipython",
    "version": 3
   },
   "file_extension": ".py",
   "mimetype": "text/x-python",
   "name": "python",
   "nbconvert_exporter": "python",
   "pygments_lexer": "ipython3",
   "version": "3.7.8"
  }
 },
 "nbformat": 4,
 "nbformat_minor": 4
}
