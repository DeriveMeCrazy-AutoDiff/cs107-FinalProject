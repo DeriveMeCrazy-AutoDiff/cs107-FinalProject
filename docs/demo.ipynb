{
 "cells": [
  {
   "cell_type": "markdown",
   "metadata": {},
   "source": [
    "### AutoDiff Demos\n",
    "\n",
    "The following notebook contains a walkthrough demonstration of how to use this automatic differentiation package. If you have not already, please be sure to install the package using pip:"
   ]
  },
  {
   "cell_type": "code",
   "execution_count": null,
   "metadata": {},
   "outputs": [],
   "source": [
    "!pip install auto_diff_pkg"
   ]
  },
  {
   "cell_type": "markdown",
   "metadata": {},
   "source": [
    "Start by importing the AutoDiff package (make sure to have it properly installed it first!)"
   ]
  },
  {
   "cell_type": "code",
   "execution_count": null,
   "metadata": {},
   "outputs": [],
   "source": [
    "#import auto_diff_pkg.AutoDiff as AutoDiff\n",
    "import auto_diff_pkg.AutoDiff as AD\n",
    "\n",
    "# import the reverse mode package separately\n",
    "import auto_diff_pkg.ReverseAutoDiff as RM"
   ]
  },
  {
   "cell_type": "markdown",
   "metadata": {},
   "source": [
    "Now we can create an AutoDiff object and see what's included."
   ]
  },
  {
   "cell_type": "code",
   "execution_count": null,
   "metadata": {},
   "outputs": [],
   "source": [
    "ad = AD.AutoDiff(5.0) # auto differentiation object with value of 5\n",
    "print(ad.__dir__()) "
   ]
  },
  {
   "cell_type": "markdown",
   "metadata": {},
   "source": [
    "The AutoDiff object has two primary class variables: its value (val) and its derivative (der, which by default is 1). There are custom dunder method implementations to carry out both value and derivative calculations. For example, adding a scalar to an AutoDiff object:"
   ]
  },
  {
   "cell_type": "code",
   "execution_count": null,
   "metadata": {},
   "outputs": [],
   "source": [
    "ad1 = AD.AutoDiff(5.0) \n",
    "ad2 = ad + 5.0\n",
    "print('value: {}'.format(ad2.val))\n",
    "print('derivative: {}'.format(ad2.der))"
   ]
  },
  {
   "cell_type": "markdown",
   "metadata": {},
   "source": [
    "Unsurprisingly, 5 + 5 is equal to 10, but the derivative of a scalar addition is 0, so the initial derivative of our AutoDiff object remains unchanged.\n",
    "\n",
    "Adding two AutoDiff objects does change the derivative of their sum, however."
   ]
  },
  {
   "cell_type": "code",
   "execution_count": null,
   "metadata": {},
   "outputs": [],
   "source": [
    "ad1 = AD.AutoDiff(5.0)\n",
    "ad2 = AD.AutoDiff(3.0)\n",
    "ad3 = ad1 + ad2\n",
    "\n",
    "print('value: {}'.format(ad3.val))\n",
    "print('derivative: {}'.format(ad3.der))"
   ]
  },
  {
   "cell_type": "markdown",
   "metadata": {},
   "source": [
    "More operations than addition can be applied to an AutoDiff object. Here are some of the following:"
   ]
  },
  {
   "cell_type": "code",
   "execution_count": null,
   "metadata": {},
   "outputs": [],
   "source": [
    "ad1 = AD.AutoDiff(5.0)\n",
    "ad2 = AD.AutoDiff(3.0)\n",
    "\n",
    "print('---multiplication---')\n",
    "ad3 = ad1 * ad2\n",
    "\n",
    "print('value: {}'.format(ad3.val))\n",
    "print('derivative: {}'.format(ad3.der))\n",
    "\n",
    "print('\\n---powers---')\n",
    "ad3 = ad1 ** ad2\n",
    "\n",
    "print('value: {}'.format(ad3.val))\n",
    "print('derivative: {}'.format(ad3.der))\n",
    "\n",
    "print('\\n---sine---')\n",
    "ad3 = AD.sin(ad1)\n",
    "\n",
    "print('value: {}'.format(ad3.val))\n",
    "print('derivative: {}'.format(ad3.der))"
   ]
  },
  {
   "cell_type": "markdown",
   "metadata": {},
   "source": [
    "Please refer to the documentation for a full list of the operations supported by AutoDiff objects.\n",
    "\n",
    "AutoDiff objects can also be used as input to lambda functions, increasing their usability and flexibility:"
   ]
  },
  {
   "cell_type": "code",
   "execution_count": null,
   "metadata": {},
   "outputs": [],
   "source": [
    "f = lambda x: 2.0 * AD.sin(x)**2 + 3.0\n",
    "\n",
    "ad = AD.AutoDiff(5.0)\n",
    "ad2 = f(ad)\n",
    "\n",
    "print('value: {}'.format(ad2.val))\n",
    "print('derivative: {}'.format(ad2.der))"
   ]
  },
  {
   "cell_type": "markdown",
   "metadata": {},
   "source": [
    "### Newton's method\n",
    "\n",
    "Below we demonstrate how our AutoDiff implementation can be used to calculate Newton's method for finding equation roots.\n",
    "This method converges very quickly usually and is very useful. "
   ]
  },
  {
   "cell_type": "code",
   "execution_count": null,
   "metadata": {},
   "outputs": [],
   "source": [
    "def newton_root_finder(f,guess, num_iter=15, epsilon=10**-10):\n",
    "    x0 = AD.AutoDiff(guess)\n",
    "    for n in range(0,num_iter):\n",
    "        curr_iter = f(x0)\n",
    "        if abs(curr_iter.val) < epsilon:\n",
    "            print('Root found at ',x0.val,' after ', n, 'iterations.')\n",
    "            return x0.val\n",
    "        der = curr_iter.der\n",
    "        if der == 0:\n",
    "            print('Derivative is 0. Cannot solve')\n",
    "            return None\n",
    "        x0 = x0 - curr_iter.val/curr_iter.der\n",
    "    print('Could not converge in requested number of iterations')\n",
    "    return None"
   ]
  },
  {
   "cell_type": "code",
   "execution_count": null,
   "metadata": {},
   "outputs": [],
   "source": [
    "f = lambda x: 2*(x**3) - x - 4\n",
    "newton_root_finder(f,1)"
   ]
  },
  {
   "cell_type": "markdown",
   "metadata": {},
   "source": [
    "### Multiple Functions and Variables\n",
    "\n",
    "AutoDiff objects are also able to handle multiple functions and multiple variables. "
   ]
  },
  {
   "cell_type": "code",
   "execution_count": null,
   "metadata": {},
   "outputs": [],
   "source": [
    "x0=AD.AutoDiff(1,1,3,0) #value 1, derivative 1, 3 variables in total, this one is position 0\n",
    "x1=AD.AutoDiff(2,1,3,1) #value 2, derivative 1, 3 variables in total, this one is position 1\n",
    "x2=AD.AutoDiff(4,1,3,2) #value 4, derivative 1, 3 variables in total, this one is position 2\n",
    "\n",
    "f1 = x0 + x1 + x2\n",
    "f2 = 1*x0 + 2*x1 + 3*x2\n",
    "f3 = 1*x0*2*x1*3*x2\n",
    "f4 = x0**2 + x1**3 + x2**4\n",
    "print(f4.der, \"\\n\")\n",
    "\n",
    "F=[f1, f2, f3, f4]\n",
    "print(F[0].der)\n",
    "print(F[1].der)\n",
    "print(F[2].der)\n",
    "print(F[3].der)"
   ]
  },
  {
   "cell_type": "markdown",
   "metadata": {},
   "source": [
    "The same can be performed using the built-in jacobian function:"
   ]
  },
  {
   "cell_type": "code",
   "execution_count": null,
   "metadata": {},
   "outputs": [],
   "source": [
    "#function takes multiple functions and assigns parameters from list. outputs jacobian\n",
    "values = [1,2,4] \n",
    "def f1(x0, x1, x2):\n",
    "    return (x0 + x1 + x2)\n",
    "def f2(x0, x1, x2):\n",
    "    return (1*x0 + 2*x1 + 3*x2)\n",
    "def f3(x0, x1, x2):\n",
    "    return (1*x0*2*x1*3*x2)\n",
    "def f4(x0, x1, x2):\n",
    "    return (x0**2 + x1**3 + x2**4)\n",
    "functions = [f1, f2, f3,f4]\n",
    "print(AD.jacobian(values, functions))"
   ]
  },
  {
   "cell_type": "markdown",
   "metadata": {},
   "source": [
    "### Reverse Mode\n",
    "\n",
    "This auto-differentiation package also handles the reverse mode of automatic differentiation. The following shows how a reverse mode object tracks its trace, which can be used to solve the complete graph"
   ]
  },
  {
   "cell_type": "code",
   "execution_count": null,
   "metadata": {},
   "outputs": [],
   "source": [
    "x0 = RM.ReverseADNode(2.0)\n",
    "x1 = RM.ReverseADNode(4.0)\n",
    "x2 = RM.ReverseADNode(6.0)\n",
    "\n",
    "f = x0 * x1 + (x2/2)\n",
    "\n",
    "print(f.value)\n",
    "x0.graph()"
   ]
  },
  {
   "cell_type": "markdown",
   "metadata": {},
   "source": [
    "The following demonstration constructs the jacobian from 4 predefined functions of 3 variables using the built-in jacobian function for reverse mode objects."
   ]
  },
  {
   "cell_type": "code",
   "execution_count": null,
   "metadata": {},
   "outputs": [],
   "source": [
    "#function takes multiple functions and assigns parameters from list. outputs jacobian\n",
    "values = [1,2,4] \n",
    "def f1(x0, x1, x2):\n",
    "    return (x0 + x1 + x2)\n",
    "def f2(x0, x1, x2):\n",
    "    return (1*x0 + 2*x1 + 3*x2)\n",
    "def f3(x0, x1, x2):\n",
    "    return (1*x0*2*x1*3*x2)\n",
    "def f4(x0, x1, x2):\n",
    "    return (x0**2 + x1**3 + x2**4)\n",
    "functions = [f1, f2, f3,f4]\n",
    "print(RM.jacobian(values, functions))"
   ]
  },
  {
   "cell_type": "code",
   "execution_count": null,
   "metadata": {},
   "outputs": [],
   "source": []
  }
 ],
 "metadata": {
  "kernelspec": {
   "display_name": "Python 3",
   "language": "python",
   "name": "python3"
  },
  "language_info": {
   "codemirror_mode": {
    "name": "ipython",
    "version": 3
   },
   "file_extension": ".py",
   "mimetype": "text/x-python",
   "name": "python",
   "nbconvert_exporter": "python",
   "pygments_lexer": "ipython3",
   "version": "3.7.8"
  }
 },
 "nbformat": 4,
 "nbformat_minor": 4
}
