{
 "cells": [
  {
   "cell_type": "markdown",
   "metadata": {},
   "source": [
    "### AutoDiff Demos"
   ]
  },
  {
   "cell_type": "markdown",
   "metadata": {},
   "source": [
    "Start by importing the AutoDiff package (make sure to have dependencies properly installed it first!)"
   ]
  },
  {
   "cell_type": "code",
   "execution_count": 7,
   "metadata": {},
   "outputs": [],
   "source": [
    "import os\n",
    "import sys\n",
    "\n",
    "if os.getcwd()+'/../' not in sys.path:\n",
    "    sys.path.insert(0, os.getcwd()+'/../') #adds parent directory to python path\n",
    "\n",
    "\n",
    "#import auto_diff_pkg.AutoDiff as AutoDiff\n",
    "import auto_diff_pkg.AutoDiff as AD"
   ]
  },
  {
   "cell_type": "markdown",
   "metadata": {},
   "source": [
    "Now we can create an AutoDiff object and see what's included."
   ]
  },
  {
   "cell_type": "code",
   "execution_count": 8,
   "metadata": {},
   "outputs": [
    {
     "name": "stdout",
     "output_type": "stream",
     "text": [
      "['val', 'der', '__module__', '__init__', '__neg__', '__add__', '__radd__', '__mul__', '__rmul__', '__sub__', '__rsub__', '__truediv__', '__rtruediv__', '__pow__', '__rpow__', '__str__', '__dict__', '__weakref__', '__doc__', '__repr__', '__hash__', '__getattribute__', '__setattr__', '__delattr__', '__lt__', '__le__', '__eq__', '__ne__', '__gt__', '__ge__', '__new__', '__reduce_ex__', '__reduce__', '__subclasshook__', '__init_subclass__', '__format__', '__sizeof__', '__dir__', '__class__']\n"
     ]
    }
   ],
   "source": [
    "ad = AD.AutoDiff(5.0) # auto differentiation object with value of 5\n",
    "print(ad.__dir__()) "
   ]
  },
  {
   "cell_type": "markdown",
   "metadata": {},
   "source": [
    "The AutoDiff object has two primary class variables: its value (val) and its derivative (der, which by default is 1). There are custom dunder method implementations to carry out both value and derivative calculations. For example, adding a scalar to an AutoDiff object:"
   ]
  },
  {
   "cell_type": "code",
   "execution_count": 9,
   "metadata": {},
   "outputs": [
    {
     "name": "stdout",
     "output_type": "stream",
     "text": [
      "value: 10.0\n",
      "derivative: 1.0\n"
     ]
    }
   ],
   "source": [
    "ad1 = AD.AutoDiff(5.0) \n",
    "ad2 = ad + 5.0\n",
    "print('value: {}'.format(ad2.val))\n",
    "print('derivative: {}'.format(ad2.der))"
   ]
  },
  {
   "cell_type": "markdown",
   "metadata": {},
   "source": [
    "Unsurprisingly, 5 + 5 is equal to 10, but the derivative of a scalar addition is 0, so the initial derivative of our AutoDiff object remains unchanged.\n",
    "\n",
    "Adding two AutoDiff objects does change the derivative of their sum, however."
   ]
  },
  {
   "cell_type": "code",
   "execution_count": 10,
   "metadata": {},
   "outputs": [
    {
     "name": "stdout",
     "output_type": "stream",
     "text": [
      "value: 8.0\n",
      "derivative: 2.0\n"
     ]
    }
   ],
   "source": [
    "ad1 = AD.AutoDiff(5.0)\n",
    "ad2 = AD.AutoDiff(3.0)\n",
    "ad3 = ad1 + ad2\n",
    "\n",
    "print('value: {}'.format(ad3.val))\n",
    "print('derivative: {}'.format(ad3.der))"
   ]
  },
  {
   "cell_type": "markdown",
   "metadata": {},
   "source": [
    "More operations than addition can be applied to an AutoDiff object. Here are some of the following:"
   ]
  },
  {
   "cell_type": "code",
   "execution_count": 11,
   "metadata": {},
   "outputs": [
    {
     "name": "stdout",
     "output_type": "stream",
     "text": [
      "---multiplication---\n",
      "value: 15.0\n",
      "derivative: 8.0\n",
      "\n",
      "---powers---\n",
      "value: 125.0\n",
      "derivative: 276.17973905426254\n",
      "\n",
      "---sine---\n",
      "value: -0.9589242746631385\n",
      "derivative: 0.2836621854632263\n"
     ]
    }
   ],
   "source": [
    "ad1 = AD.AutoDiff(5.0)\n",
    "ad2 = AD.AutoDiff(3.0)\n",
    "\n",
    "print('---multiplication---')\n",
    "ad3 = ad1 * ad2\n",
    "\n",
    "print('value: {}'.format(ad3.val))\n",
    "print('derivative: {}'.format(ad3.der))\n",
    "\n",
    "print('\\n---powers---')\n",
    "ad3 = ad1 ** ad2\n",
    "\n",
    "print('value: {}'.format(ad3.val))\n",
    "print('derivative: {}'.format(ad3.der))\n",
    "\n",
    "print('\\n---sine---')\n",
    "ad3 = AD.sin(ad1)\n",
    "\n",
    "print('value: {}'.format(ad3.val))\n",
    "print('derivative: {}'.format(ad3.der))"
   ]
  },
  {
   "cell_type": "markdown",
   "metadata": {},
   "source": [
    "Please refer to the documentation for a full list of the operations supported by AutoDiff objects.\n",
    "\n",
    "Lastly, AutoDiff objects can be used as input to lambda functions, increasing their usability and flexibility:"
   ]
  },
  {
   "cell_type": "code",
   "execution_count": 12,
   "metadata": {},
   "outputs": [
    {
     "name": "stdout",
     "output_type": "stream",
     "text": [
      "value: 4.8390715290764525\n",
      "derivative: -1.0880422217787398\n"
     ]
    }
   ],
   "source": [
    "f = lambda x: 2.0 * AD.sin(x)**2 + 3.0\n",
    "\n",
    "ad = AD.AutoDiff(5.0)\n",
    "ad2 = f(ad)\n",
    "\n",
    "print('value: {}'.format(ad2.val))\n",
    "print('derivative: {}'.format(ad2.der))"
   ]
  },
  {
   "cell_type": "markdown",
   "metadata": {},
   "source": [
    "### Newton's method\n",
    "\n",
    "Below we demonstrate how our AutoDiff implementation can be used to calculate Newton's method for finding equation roots.\n",
    "This method converges very quickly usually and is very useful. "
   ]
  },
  {
   "cell_type": "code",
   "execution_count": 23,
   "metadata": {},
   "outputs": [],
   "source": [
    "\n",
    "def newton_root_finder(f,guess, num_iter=15, epsilon=10**-10):\n",
    "    x0 = AD.AutoDiff(guess)\n",
    "    for n in range(0,num_iter):\n",
    "        curr_iter = f(x0)\n",
    "        if abs(curr_iter.val) < epsilon:\n",
    "            print('Root found at ',x0.val,' after ', n, 'iterations.')\n",
    "            return x0.val\n",
    "        der = curr_iter.der\n",
    "        if der == 0:\n",
    "            print('Derivative is 0. Cannot solve')\n",
    "            return None\n",
    "        x0 = x0 - curr_iter.val/curr_iter.der\n",
    "    print('Could not converge in requested number of iterations')\n",
    "    return None"
   ]
  },
  {
   "cell_type": "code",
   "execution_count": 24,
   "metadata": {},
   "outputs": [
    {
     "name": "stdout",
     "output_type": "stream",
     "text": [
      "Root found at  1.3917687722355854  after  5 iterations.\n"
     ]
    },
    {
     "data": {
      "text/plain": [
       "1.3917687722355854"
      ]
     },
     "execution_count": 24,
     "metadata": {},
     "output_type": "execute_result"
    }
   ],
   "source": [
    "f = lambda x: 2*(x**3) - x - 4\n",
    "newton_root_finder(f,1)"
   ]
  },
  {
   "cell_type": "code",
   "execution_count": null,
   "metadata": {},
   "outputs": [],
   "source": []
  }
 ],
 "metadata": {
  "kernelspec": {
   "display_name": "Python 3",
   "language": "python",
   "name": "python3"
  },
  "language_info": {
   "codemirror_mode": {
    "name": "ipython",
    "version": 3
   },
   "file_extension": ".py",
   "mimetype": "text/x-python",
   "name": "python",
   "nbconvert_exporter": "python",
   "pygments_lexer": "ipython3",
   "version": "3.8.3"
  }
 },
 "nbformat": 4,
 "nbformat_minor": 4
}
